{
  "nbformat": 4,
  "nbformat_minor": 0,
  "metadata": {
    "colab": {
      "name": "Es01-VCND-SpintaNecessaria.ipynb",
      "provenance": [],
      "collapsed_sections": []
    },
    "kernelspec": {
      "name": "python3",
      "display_name": "Python 3"
    }
  },
  "cells": [
    {
      "cell_type": "code",
      "metadata": {
        "id": "pS9msZtRB7WK",
        "colab_type": "code",
        "outputId": "836e3565-6cce-4f70-b641-c7b9f9985a45",
        "colab": {
          "base_uri": "https://localhost:8080/",
          "height": 345
        }
      },
      "source": [
        "from math import *\n",
        "import numpy as np\n",
        "import matplotlib.pyplot as plt\n",
        "import pandas as pd\n",
        "##\n",
        "##\n",
        "MM = 3\n",
        "GG = 27\n",
        "rho = 1.225 ## kg/m^3\n",
        "##\n",
        "massa = 5500.0-10/GG ## kg\n",
        "S = 20-GG/10 ## m^2\n",
        "CLmax = 1.7+MM/100\n",
        "CD0 = 0.025+MM/1000\n",
        "k = 0.045+MM/1000\n",
        "W = massa*9.81 ## N\n",
        "##\n",
        "print(\"CLMax\",CLmax,\"CD0 =\",CD0,\"k =\",k)\n",
        "##\n",
        "tmp1 = np.linspace(0,CLmax,6)\n",
        "##tmp1 = np.arange(0,CLmax,0.1)\n",
        "tmp2 = [sqrt(CD0/(3*k)),sqrt(CD0/k),sqrt(3*CD0/k)]\n",
        "CLs = []\n",
        "for i in range(len(tmp1)):\n",
        "\tCLs.append(tmp1[i])\n",
        "for i in range(len(tmp2)):\n",
        "\tCLs.append(tmp2[i])\n",
        "##\n",
        "CLs.sort()\n",
        "CD = []\n",
        "CD1 = []\n",
        "CD2 = []\n",
        "E = []\n",
        "iq = []\n",
        "qi = []\n",
        "##\n",
        "V = []\n",
        "D = []\n",
        "D1 = []\n",
        "D2 = []\n",
        "##\n",
        "for i in range(len(CLs)):\n",
        "  CD.append(CD0+k*CLs[i]**2)\n",
        "  CD1.append(CD0)\n",
        "  CD2.append(k*CLs[i]**2)\n",
        "  E.append(CLs[i]/CD[i])\n",
        "  iq.append(E[i]*sqrt(CLs[i]))\n",
        "  if CLs[i]==0:\n",
        "    qi.append(np.nan)\n",
        "    V.append(np.nan)\n",
        "    D.append(np.nan)\n",
        "    D1.append(np.nan)\n",
        "    D2.append(np.nan)\n",
        "    \n",
        "  else:\n",
        "    qi.append(E[i]/sqrt(CLs[i]))\n",
        "    V.append(sqrt(2*W/S/(rho*CLs[i])))\n",
        "    D.append(0.5*rho*V[i]**2*S*CD[i])\n",
        "    D1.append(0.5*rho*V[i]**2*S*CD1[i])\n",
        "    D2.append(0.5*rho*V[i]**2*S*CD2[i])\n",
        "    \n",
        "##\n",
        "data = {\"CL\":CLs,\"CD1\":CD1,\"CD2\":CD2,\"CD\":CD,\"E\":E,\"iq\":iq,\"qi\":qi,\"IAS\":V,\"D1\":D1,\"D2\":D2,\"D\":D}\n",
        "df = pd.DataFrame(data)\n",
        "##print(df)\n",
        "df"
      ],
      "execution_count": 0,
      "outputs": [
        {
          "output_type": "stream",
          "text": [
            "CLMax 1.73 CD0 = 0.028 k = 0.048\n"
          ],
          "name": "stdout"
        },
        {
          "output_type": "execute_result",
          "data": {
            "text/html": [
              "<div>\n",
              "<style scoped>\n",
              "    .dataframe tbody tr th:only-of-type {\n",
              "        vertical-align: middle;\n",
              "    }\n",
              "\n",
              "    .dataframe tbody tr th {\n",
              "        vertical-align: top;\n",
              "    }\n",
              "\n",
              "    .dataframe thead th {\n",
              "        text-align: right;\n",
              "    }\n",
              "</style>\n",
              "<table border=\"1\" class=\"dataframe\">\n",
              "  <thead>\n",
              "    <tr style=\"text-align: right;\">\n",
              "      <th></th>\n",
              "      <th>CL</th>\n",
              "      <th>CD1</th>\n",
              "      <th>CD2</th>\n",
              "      <th>CD</th>\n",
              "      <th>E</th>\n",
              "      <th>iq</th>\n",
              "      <th>qi</th>\n",
              "      <th>IAS</th>\n",
              "      <th>D1</th>\n",
              "      <th>D2</th>\n",
              "      <th>D</th>\n",
              "    </tr>\n",
              "  </thead>\n",
              "  <tbody>\n",
              "    <tr>\n",
              "      <th>0</th>\n",
              "      <td>0.000000</td>\n",
              "      <td>0.028</td>\n",
              "      <td>0.000000</td>\n",
              "      <td>0.028000</td>\n",
              "      <td>0.000000</td>\n",
              "      <td>0.000000</td>\n",
              "      <td>NaN</td>\n",
              "      <td>NaN</td>\n",
              "      <td>NaN</td>\n",
              "      <td>NaN</td>\n",
              "      <td>NaN</td>\n",
              "    </tr>\n",
              "    <tr>\n",
              "      <th>1</th>\n",
              "      <td>0.346000</td>\n",
              "      <td>0.028</td>\n",
              "      <td>0.005746</td>\n",
              "      <td>0.033746</td>\n",
              "      <td>10.252955</td>\n",
              "      <td>6.030969</td>\n",
              "      <td>17.430547</td>\n",
              "      <td>121.307339</td>\n",
              "      <td>4366.006551</td>\n",
              "      <td>896.024298</td>\n",
              "      <td>5262.030849</td>\n",
              "    </tr>\n",
              "    <tr>\n",
              "      <th>2</th>\n",
              "      <td>0.440959</td>\n",
              "      <td>0.028</td>\n",
              "      <td>0.009333</td>\n",
              "      <td>0.037333</td>\n",
              "      <td>11.811390</td>\n",
              "      <td>7.843319</td>\n",
              "      <td>17.786976</td>\n",
              "      <td>107.454904</td>\n",
              "      <td>3425.805578</td>\n",
              "      <td>1141.935193</td>\n",
              "      <td>4567.740771</td>\n",
              "    </tr>\n",
              "    <tr>\n",
              "      <th>3</th>\n",
              "      <td>0.692000</td>\n",
              "      <td>0.028</td>\n",
              "      <td>0.022985</td>\n",
              "      <td>0.050985</td>\n",
              "      <td>13.572494</td>\n",
              "      <td>11.290488</td>\n",
              "      <td>16.315734</td>\n",
              "      <td>85.777242</td>\n",
              "      <td>2183.003276</td>\n",
              "      <td>1792.048595</td>\n",
              "      <td>3975.051871</td>\n",
              "    </tr>\n",
              "    <tr>\n",
              "      <th>4</th>\n",
              "      <td>0.763763</td>\n",
              "      <td>0.028</td>\n",
              "      <td>0.028000</td>\n",
              "      <td>0.056000</td>\n",
              "      <td>13.638618</td>\n",
              "      <td>11.919268</td>\n",
              "      <td>15.605985</td>\n",
              "      <td>81.648071</td>\n",
              "      <td>1977.889773</td>\n",
              "      <td>1977.889773</td>\n",
              "      <td>3955.779546</td>\n",
              "    </tr>\n",
              "    <tr>\n",
              "      <th>5</th>\n",
              "      <td>1.038000</td>\n",
              "      <td>0.028</td>\n",
              "      <td>0.051717</td>\n",
              "      <td>0.079717</td>\n",
              "      <td>13.021011</td>\n",
              "      <td>13.266104</td>\n",
              "      <td>12.780447</td>\n",
              "      <td>70.036825</td>\n",
              "      <td>1455.335517</td>\n",
              "      <td>2688.072893</td>\n",
              "      <td>4143.408410</td>\n",
              "    </tr>\n",
              "    <tr>\n",
              "      <th>6</th>\n",
              "      <td>1.322876</td>\n",
              "      <td>0.028</td>\n",
              "      <td>0.084000</td>\n",
              "      <td>0.112000</td>\n",
              "      <td>11.811390</td>\n",
              "      <td>13.585027</td>\n",
              "      <td>10.269315</td>\n",
              "      <td>62.039118</td>\n",
              "      <td>1141.935193</td>\n",
              "      <td>3425.805578</td>\n",
              "      <td>4567.740771</td>\n",
              "    </tr>\n",
              "    <tr>\n",
              "      <th>7</th>\n",
              "      <td>1.384000</td>\n",
              "      <td>0.028</td>\n",
              "      <td>0.091942</td>\n",
              "      <td>0.119942</td>\n",
              "      <td>11.538921</td>\n",
              "      <td>13.574794</td>\n",
              "      <td>9.808377</td>\n",
              "      <td>60.653670</td>\n",
              "      <td>1091.501638</td>\n",
              "      <td>3584.097190</td>\n",
              "      <td>4675.598828</td>\n",
              "    </tr>\n",
              "    <tr>\n",
              "      <th>8</th>\n",
              "      <td>1.730000</td>\n",
              "      <td>0.028</td>\n",
              "      <td>0.143659</td>\n",
              "      <td>0.171659</td>\n",
              "      <td>10.078108</td>\n",
              "      <td>13.255682</td>\n",
              "      <td>7.662244</td>\n",
              "      <td>54.250291</td>\n",
              "      <td>873.201310</td>\n",
              "      <td>4480.121488</td>\n",
              "      <td>5353.322798</td>\n",
              "    </tr>\n",
              "  </tbody>\n",
              "</table>\n",
              "</div>"
            ],
            "text/plain": [
              "         CL    CD1       CD2  ...           D1           D2            D\n",
              "0  0.000000  0.028  0.000000  ...          NaN          NaN          NaN\n",
              "1  0.346000  0.028  0.005746  ...  4366.006551   896.024298  5262.030849\n",
              "2  0.440959  0.028  0.009333  ...  3425.805578  1141.935193  4567.740771\n",
              "3  0.692000  0.028  0.022985  ...  2183.003276  1792.048595  3975.051871\n",
              "4  0.763763  0.028  0.028000  ...  1977.889773  1977.889773  3955.779546\n",
              "5  1.038000  0.028  0.051717  ...  1455.335517  2688.072893  4143.408410\n",
              "6  1.322876  0.028  0.084000  ...  1141.935193  3425.805578  4567.740771\n",
              "7  1.384000  0.028  0.091942  ...  1091.501638  3584.097190  4675.598828\n",
              "8  1.730000  0.028  0.143659  ...   873.201310  4480.121488  5353.322798\n",
              "\n",
              "[9 rows x 11 columns]"
            ]
          },
          "metadata": {
            "tags": []
          },
          "execution_count": 2
        }
      ]
    },
    {
      "cell_type": "code",
      "metadata": {
        "id": "eghBbcjlB9Wy",
        "colab_type": "code",
        "outputId": "c3dfd360-33e3-4827-d048-de7e236244d3",
        "colab": {
          "base_uri": "https://localhost:8080/",
          "height": 269
        }
      },
      "source": [
        "plt.plot(CLs,CD)\n",
        "plt.plot(CLs,CD,\"x\")\n",
        "plt.plot(tmp2[0],CD[CLs.index(tmp2[0])],\"o\")\n",
        "plt.plot(tmp2[1],CD[CLs.index(tmp2[1])],\"o\")\n",
        "plt.plot(tmp2[2],CD[CLs.index(tmp2[2])],\"o\")\n",
        "plt.xlim(0,max(CLs))\n",
        "plt.ylim(0,max(CD))\n",
        "plt.grid()\n",
        "plt.show()"
      ],
      "execution_count": 0,
      "outputs": [
        {
          "output_type": "display_data",
          "data": {
            "image/png": "[encoded data removed]",
            "text/plain": [
              "<Figure size 432x288 with 1 Axes>"
            ]
          },
          "metadata": {
            "tags": []
          }
        }
      ]
    },
    {
      "cell_type": "code",
      "metadata": {
        "id": "XcKwRhgMjbeY",
        "colab_type": "code",
        "outputId": "73ec69d5-af25-483b-f3e4-c51876a965a5",
        "colab": {
          "base_uri": "https://localhost:8080/",
          "height": 283
        }
      },
      "source": [
        "plt.plot(V,D)\n",
        "plt.plot(V,D1)\n",
        "plt.plot(V,D2)\n",
        "plt.xlim(0,150)\n",
        "plt.xlabel(\"V [m/s]\")\n",
        "plt.ylim(0,6000)\n",
        "plt.ylabel(\"[N]\")\n",
        "plt.grid()\n",
        "plt.show()"
      ],
      "execution_count": 0,
      "outputs": [
        {
          "output_type": "display_data",
          "data": {
            "image/png": "[encoded data removed]",
            "text/plain": [
              "<Figure size 432x288 with 1 Axes>"
            ]
          },
          "metadata": {
            "tags": []
          }
        }
      ]
    },
    {
      "cell_type": "code",
      "metadata": {
        "id": "VnP0rvyzQEBK",
        "colab_type": "code",
        "colab": {}
      },
      "source": [
        ""
      ],
      "execution_count": 0,
      "outputs": []
    }
  ]
}